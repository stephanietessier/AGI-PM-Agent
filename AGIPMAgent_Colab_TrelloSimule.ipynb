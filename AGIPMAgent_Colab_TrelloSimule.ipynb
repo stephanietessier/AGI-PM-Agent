{
 "cells": [
  {
   "cell_type": "markdown",
   "id": "1b86c7f9",
   "metadata": {},
   "source": [
    "# 🤖 AGIPMAgent (Colab) – Démo avec tâches Trello simulées"
   ]
  },
  {
   "cell_type": "code",
   "execution_count": null,
   "id": "843e75ad",
   "metadata": {},
   "outputs": [],
   "source": [
    "import random\n",
    "from datetime import datetime\n",
    "import pandas as pd\n",
    "\n",
    "AGENTS = [\"MCP-Tech\", \"MCP-Design\"]\n",
    "\n",
    "MCP_CONFIG = {\n",
    "    \"MCP-Tech\": {\n",
    "        \"OBJECTIVE\": \"Gérer les tâches techniques\",\n",
    "        \"STYLE\": \"sérieux et synthétique\",\n",
    "        \"TASKS\": [\n",
    "            \"Corriger les bugs critiques\",\n",
    "            \"Mettre à jour l’API REST\",\n",
    "            \"Configurer CI/CD GitHub Actions\"\n",
    "        ]\n",
    "    },\n",
    "    \"MCP-Design\": {\n",
    "        \"OBJECTIVE\": \"Superviser le design visuel\",\n",
    "        \"STYLE\": \"créatif et amical\",\n",
    "        \"TASKS\": [\n",
    "            \"Créer une nouvelle maquette mobile\",\n",
    "            \"Harmoniser les couleurs\",\n",
    "            \"Préparer les visuels marketing\"\n",
    "        ]\n",
    "    }\n",
    "}\n"
   ]
  },
  {
   "cell_type": "code",
   "execution_count": null,
   "id": "2151892d",
   "metadata": {},
   "outputs": [],
   "source": [
    "logs = []\n",
    "\n",
    "def simulate_agent(agent_key):\n",
    "    config = MCP_CONFIG[agent_key]\n",
    "    task = random.choice(config[\"TASKS\"])\n",
    "    response = f\"Tâche : {task} — Résolue avec succès.\"\n",
    "    log = {\n",
    "        \"Agent\": agent_key,\n",
    "        \"Tâche\": task,\n",
    "        \"Réponse\": response,\n",
    "        \"Heure\": datetime.now().strftime(\"%Y-%m-%d %H:%M:%S\"),\n",
    "        \"Style\": config[\"STYLE\"]\n",
    "    }\n",
    "    logs.append(log)\n",
    "    print(f\"\\n[{agent_key}] 🎯 {config['OBJECTIVE']}\\n🛠 Tâche : {task}\\n✅ {response}\")\n"
   ]
  },
  {
   "cell_type": "code",
   "execution_count": null,
   "id": "c782775f",
   "metadata": {},
   "outputs": [],
   "source": [
    "for agent in AGENTS:\n",
    "    simulate_agent(agent)\n"
   ]
  },
  {
   "cell_type": "code",
   "execution_count": null,
   "id": "87958b9c",
   "metadata": {},
   "outputs": [],
   "source": [
    "pd.DataFrame(logs)\n"
   ]
  }
 ],
 "metadata": {},
 "nbformat": 4,
 "nbformat_minor": 5
}
